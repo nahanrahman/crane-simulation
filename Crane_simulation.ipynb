{
 "cells": [
  {
   "cell_type": "code",
   "execution_count": 18,
   "id": "9af0b9f1-c561-4e80-a891-153c757f2898",
   "metadata": {},
   "outputs": [],
   "source": [
    "import os\n",
    "import json\n",
    "import pandas as pd"
   ]
  },
  {
   "cell_type": "code",
   "execution_count": 2,
   "id": "c64d5078-d138-4a27-a476-4c67b246b16f",
   "metadata": {},
   "outputs": [],
   "source": [
    "from pymodbus.client import ModbusTcpClient\n",
    "from pymodbus.exceptions import ModbusException"
   ]
  },
  {
   "cell_type": "code",
   "execution_count": 3,
   "id": "7dcea51e-1c7c-43aa-a8f7-ca70ccf21d2d",
   "metadata": {},
   "outputs": [],
   "source": [
    "import time"
   ]
  },
  {
   "cell_type": "code",
   "execution_count": 6,
   "id": "467fb61a-7582-42b4-b791-816255aab979",
   "metadata": {},
   "outputs": [
    {
     "name": "stdout",
     "output_type": "stream",
     "text": [
      "Start server...\n",
      "Shutdown server ...\n",
      "Server is offline\n"
     ]
    }
   ],
   "source": [
    "#!/bin/python\n",
    "\n",
    "from pyModbusTCP.server import ModbusServer, DataBank\n",
    "from time import sleep\n",
    "from random import uniform\n",
    "\n",
    "# Create an instance of ModbusServer\n",
    "server = ModbusServer(\"127.0.0.1\", 502, no_block=True)\n",
    "\n",
    "try:\n",
    "    print(\"Start server...\")\n",
    "    server.start()\n",
    "    print(\"Server is online\")\n",
    "    state = [0]\n",
    "    while True:\n",
    "        DataBank.set_words(0, [int(uniform(0, 100))])\n",
    "        if state != DataBank.get_words(1):\n",
    "            state = DataBank.get_words(1)\n",
    "            print(\"Value of Register 1 has changed to \" +str(state))\n",
    "        sleep(0.5)\n",
    "\n",
    "except:\n",
    "    print(\"Shutdown server ...\")\n",
    "    server.stop()\n",
    "    print(\"Server is offline\")\n"
   ]
  },
  {
   "cell_type": "code",
   "execution_count": 7,
   "id": "3094fc03-4138-4f48-879b-a958cb16902a",
   "metadata": {},
   "outputs": [],
   "source": [
    "client = ModbusTcpClient('127.0.0.1',port=502)"
   ]
  },
  {
   "cell_type": "code",
   "execution_count": 8,
   "id": "15f145bd-5321-41de-9d21-c1283e47d7d3",
   "metadata": {},
   "outputs": [
    {
     "name": "stdout",
     "output_type": "stream",
     "text": [
      "Connected to Modbus server\n"
     ]
    }
   ],
   "source": [
    "if client.connect():\n",
    "    print(\"Connected to Modbus server\")\n",
    "else:\n",
    "    print(\"Failed to connect to Modbus server\")\n",
    "    client.close()\n",
    "    "
   ]
  },
  {
   "cell_type": "code",
   "execution_count": 9,
   "id": "e07c22c2-436b-454e-87fa-ed0e63ae5a8b",
   "metadata": {},
   "outputs": [],
   "source": [
    "def read_input(address):\n",
    "    result = client.read_holding_registers(address, 1)\n",
    "    return result.registers[0]"
   ]
  },
  {
   "cell_type": "code",
   "execution_count": 10,
   "id": "c7bdef46-bceb-428c-bfee-9e0d8d47333f",
   "metadata": {},
   "outputs": [],
   "source": [
    "def write_output(address, value):\n",
    "    result = client.write_register(address, value)\n",
    "    print(f\"Successfully wrote {value} to address {address}\")"
   ]
  },
  {
   "cell_type": "code",
   "execution_count": 21,
   "id": "406e89f3-2fce-4554-b11c-2a99f57fdbce",
   "metadata": {},
   "outputs": [],
   "source": [
    "def execute_commands_from_json(json_file):\n",
    "    if os.path.exists(json_file):\n",
    "        with open(json_file, 'r') as file:\n",
    "            data = json.load(file)\n",
    "        df = pd.DataFrame(data['actions'])\n",
    "        for index, row in df.iterrows():\n",
    "            set_x = int(row['setX']) if pd.notna(row['setX']) else None\n",
    "            set_y = int(row['setY']) if pd.notna(row['setY']) else None\n",
    "            vacuum = int(row['vacuum']) if pd.notna(row['vacuum']) else None\n",
    "            if set_x is not None and set_y is not None:\n",
    "                set_crane_position(set_x, set_y)\n",
    "            if vacuum is not None:\n",
    "                if vacuum == 1:\n",
    "                    activate_vacuum()\n",
    "                else:\n",
    "                    deactivate_vacuum()\n",
    "            if set_x is not None and set_y is not None:\n",
    "                wait_for_crane_to_reach(set_x, set_y)\n",
    "    else:\n",
    "        print(f\"File {json_file} not found.\")"
   ]
  },
  {
   "cell_type": "code",
   "execution_count": 12,
   "id": "9f879e3f-6fca-4e12-99a0-b9b557b89651",
   "metadata": {},
   "outputs": [],
   "source": [
    "def activate_vacuum():\n",
    "    write_output(3, 1)\n",
    "    print(\"Vacuum activated\")"
   ]
  },
  {
   "cell_type": "code",
   "execution_count": 13,
   "id": "a737ae5a-195c-4fe6-9969-dda410108881",
   "metadata": {},
   "outputs": [],
   "source": [
    "def deactivate_vacuum():\n",
    "    write_output(3, 0)\n",
    "    print(\"Vacuum deactivated\")"
   ]
  },
  {
   "cell_type": "code",
   "execution_count": 20,
   "id": "ee62426b-f905-4ea4-af71-2fa111bfadee",
   "metadata": {},
   "outputs": [],
   "source": [
    "def set_crane_position(x, y):\n",
    "    write_output(1, 55)\n",
    "    write_output(2, 44)\n",
    "    print(f\"Crane moving to position X: {x}, Y: {y}\")"
   ]
  },
  {
   "cell_type": "code",
   "execution_count": 15,
   "id": "2e6725b2-32b4-4a49-b53f-7fc4612c8f5c",
   "metadata": {},
   "outputs": [],
   "source": [
    "def get_crane_position():\n",
    "    crane_atX = read_input(15)\n",
    "    crane_atY = read_input(16)\n",
    "    print(f\"Crane is at position X: {crane_atX}, Y: {crane_atY}\")\n",
    "    return crane_atX, crane_atY"
   ]
  },
  {
   "cell_type": "code",
   "execution_count": 16,
   "id": "bc7de4c9-d460-4441-bf20-03974ec8b797",
   "metadata": {},
   "outputs": [],
   "source": [
    "def wait_for_crane_to_reach(x, y):\n",
    "    posX, posY = get_crane_position()\n",
    "    while posX != x or posY != y:\n",
    "        time.sleep(0.1)  # Short delay to prevent excessive polling\n",
    "        posX, posY = get_crane_position()\n",
    "    print(\"Crane reached the target position\")"
   ]
  },
  {
   "cell_type": "code",
   "execution_count": 19,
   "id": "0ecccddd-621b-4054-a5e4-5466d839a115",
   "metadata": {},
   "outputs": [
    {
     "name": "stdout",
     "output_type": "stream",
     "text": [
      "Connected to Modbus server\n",
      "Successfully wrote 0 to address 3\n",
      "Vacuum deactivated\n",
      "Successfully wrote 55 to address 1\n",
      "Successfully wrote 200 to address 2\n",
      "Crane moving to position X: 55, Y: 200\n",
      "Crane is at position X: 500, Y: 150\n",
      "Crane is at position X: 500, Y: 150\n",
      "Crane is at position X: 485, Y: 165\n",
      "Crane is at position X: 470, Y: 180\n",
      "Crane is at position X: 455, Y: 195\n",
      "Crane is at position X: 440, Y: 200\n",
      "Crane is at position X: 440, Y: 200\n",
      "Crane is at position X: 425, Y: 200\n",
      "Crane is at position X: 410, Y: 200\n",
      "Crane is at position X: 395, Y: 200\n",
      "Crane is at position X: 380, Y: 200\n",
      "Crane is at position X: 365, Y: 200\n",
      "Crane is at position X: 350, Y: 200\n",
      "Crane is at position X: 335, Y: 200\n",
      "Crane is at position X: 320, Y: 200\n",
      "Crane is at position X: 305, Y: 200\n",
      "Crane is at position X: 290, Y: 200\n",
      "Crane is at position X: 275, Y: 200\n",
      "Crane is at position X: 260, Y: 200\n",
      "Crane is at position X: 245, Y: 200\n",
      "Crane is at position X: 245, Y: 200\n",
      "Crane is at position X: 230, Y: 200\n",
      "Crane is at position X: 215, Y: 200\n",
      "Crane is at position X: 200, Y: 200\n",
      "Crane is at position X: 185, Y: 200\n",
      "Crane is at position X: 170, Y: 200\n",
      "Crane is at position X: 155, Y: 200\n",
      "Crane is at position X: 140, Y: 200\n",
      "Crane is at position X: 125, Y: 200\n",
      "Crane is at position X: 110, Y: 200\n",
      "Crane is at position X: 95, Y: 200\n",
      "Crane is at position X: 80, Y: 200\n",
      "Crane is at position X: 65, Y: 200\n",
      "Crane is at position X: 55, Y: 200\n",
      "Crane reached the target position\n",
      "Successfully wrote 55 to address 1\n",
      "Successfully wrote 82 to address 2\n",
      "Crane moving to position X: 55, Y: 82\n",
      "Crane is at position X: 55, Y: 200\n",
      "Crane is at position X: 55, Y: 200\n",
      "Crane is at position X: 55, Y: 200\n",
      "Crane is at position X: 55, Y: 185\n",
      "Crane is at position X: 55, Y: 170\n",
      "Crane is at position X: 55, Y: 155\n",
      "Crane is at position X: 55, Y: 140\n",
      "Crane is at position X: 55, Y: 125\n",
      "Crane is at position X: 55, Y: 110\n",
      "Crane is at position X: 55, Y: 95\n",
      "Crane is at position X: 55, Y: 82\n",
      "Crane reached the target position\n",
      "Successfully wrote 1 to address 3\n",
      "Vacuum activated\n",
      "Successfully wrote 55 to address 1\n",
      "Successfully wrote 200 to address 2\n",
      "Crane moving to position X: 55, Y: 200\n",
      "Crane is at position X: 55, Y: 82\n",
      "Crane is at position X: 55, Y: 82\n",
      "Crane is at position X: 55, Y: 97\n",
      "Crane is at position X: 55, Y: 112\n",
      "Crane is at position X: 55, Y: 127\n",
      "Crane is at position X: 55, Y: 142\n",
      "Crane is at position X: 55, Y: 157\n",
      "Crane is at position X: 55, Y: 172\n",
      "Crane is at position X: 55, Y: 187\n",
      "Crane is at position X: 55, Y: 187\n",
      "Crane is at position X: 55, Y: 200\n",
      "Crane reached the target position\n",
      "Successfully wrote 945 to address 1\n",
      "Successfully wrote 200 to address 2\n",
      "Crane moving to position X: 945, Y: 200\n",
      "Crane is at position X: 55, Y: 200\n",
      "Crane is at position X: 55, Y: 200\n",
      "Crane is at position X: 70, Y: 200\n",
      "Crane is at position X: 85, Y: 200\n",
      "Crane is at position X: 100, Y: 200\n",
      "Crane is at position X: 115, Y: 200\n",
      "Crane is at position X: 130, Y: 200\n",
      "Crane is at position X: 145, Y: 200\n",
      "Crane is at position X: 160, Y: 200\n",
      "Crane is at position X: 175, Y: 200\n",
      "Crane is at position X: 190, Y: 200\n",
      "Crane is at position X: 205, Y: 200\n",
      "Crane is at position X: 220, Y: 200\n",
      "Crane is at position X: 235, Y: 200\n",
      "Crane is at position X: 235, Y: 200\n",
      "Crane is at position X: 250, Y: 200\n",
      "Crane is at position X: 265, Y: 200\n",
      "Crane is at position X: 280, Y: 200\n",
      "Crane is at position X: 295, Y: 200\n",
      "Crane is at position X: 310, Y: 200\n",
      "Crane is at position X: 325, Y: 200\n",
      "Crane is at position X: 340, Y: 200\n",
      "Crane is at position X: 355, Y: 200\n",
      "Crane is at position X: 370, Y: 200\n",
      "Crane is at position X: 385, Y: 200\n",
      "Crane is at position X: 400, Y: 200\n",
      "Crane is at position X: 415, Y: 200\n",
      "Crane is at position X: 430, Y: 200\n",
      "Crane is at position X: 445, Y: 200\n",
      "Crane is at position X: 445, Y: 200\n",
      "Crane is at position X: 460, Y: 200\n",
      "Crane is at position X: 475, Y: 200\n",
      "Crane is at position X: 490, Y: 200\n",
      "Crane is at position X: 505, Y: 200\n",
      "Crane is at position X: 520, Y: 200\n",
      "Crane is at position X: 535, Y: 200\n",
      "Crane is at position X: 550, Y: 200\n",
      "Crane is at position X: 565, Y: 200\n",
      "Crane is at position X: 580, Y: 200\n",
      "Crane is at position X: 595, Y: 200\n",
      "Crane is at position X: 610, Y: 200\n",
      "Crane is at position X: 625, Y: 200\n",
      "Crane is at position X: 640, Y: 200\n",
      "Crane is at position X: 655, Y: 200\n",
      "Crane is at position X: 655, Y: 200\n",
      "Crane is at position X: 670, Y: 200\n",
      "Crane is at position X: 685, Y: 200\n",
      "Crane is at position X: 700, Y: 200\n",
      "Crane is at position X: 715, Y: 200\n",
      "Crane is at position X: 730, Y: 200\n",
      "Crane is at position X: 745, Y: 200\n",
      "Crane is at position X: 760, Y: 200\n",
      "Crane is at position X: 775, Y: 200\n",
      "Crane is at position X: 790, Y: 200\n",
      "Crane is at position X: 805, Y: 200\n",
      "Crane is at position X: 820, Y: 200\n",
      "Crane is at position X: 835, Y: 200\n",
      "Crane is at position X: 850, Y: 200\n",
      "Crane is at position X: 865, Y: 200\n",
      "Crane is at position X: 880, Y: 200\n",
      "Crane is at position X: 880, Y: 200\n",
      "Crane is at position X: 895, Y: 200\n",
      "Crane is at position X: 910, Y: 200\n",
      "Crane is at position X: 925, Y: 200\n",
      "Crane is at position X: 940, Y: 200\n",
      "Crane is at position X: 945, Y: 200\n",
      "Crane reached the target position\n",
      "Successfully wrote 945 to address 1\n",
      "Successfully wrote 82 to address 2\n",
      "Crane moving to position X: 945, Y: 82\n",
      "Crane is at position X: 945, Y: 200\n",
      "Crane is at position X: 945, Y: 200\n",
      "Crane is at position X: 945, Y: 185\n",
      "Crane is at position X: 945, Y: 170\n",
      "Crane is at position X: 945, Y: 155\n",
      "Crane is at position X: 945, Y: 140\n",
      "Crane is at position X: 945, Y: 125\n",
      "Crane is at position X: 945, Y: 110\n",
      "Crane is at position X: 945, Y: 95\n",
      "Crane is at position X: 945, Y: 82\n",
      "Crane reached the target position\n",
      "Successfully wrote 0 to address 3\n",
      "Vacuum deactivated\n",
      "Successfully wrote 945 to address 1\n",
      "Successfully wrote 200 to address 2\n",
      "Crane moving to position X: 945, Y: 200\n",
      "Crane is at position X: 945, Y: 82\n",
      "Crane is at position X: 945, Y: 82\n",
      "Crane is at position X: 945, Y: 97\n",
      "Crane is at position X: 945, Y: 97\n",
      "Crane is at position X: 945, Y: 112\n",
      "Crane is at position X: 945, Y: 127\n",
      "Crane is at position X: 945, Y: 142\n",
      "Crane is at position X: 945, Y: 157\n",
      "Crane is at position X: 945, Y: 172\n",
      "Crane is at position X: 945, Y: 187\n",
      "Crane is at position X: 945, Y: 200\n",
      "Crane reached the target position\n"
     ]
    }
   ],
   "source": [
    "if __name__ == \"__main__\":\n",
    "    if client.connect():\n",
    "        print(\"Connected to Modbus server\")\n",
    "        json_file = 'C:\\\\Users\\\\rahma\\\\handson-ml2\\\\crane_simulation\\\\crane_commands.json'\n",
    "        execute_commands_from_json(json_file)\n",
    "        client.close()\n",
    "    else:\n",
    "        print(\"Failed to connect to Modbus server\")\n"
   ]
  },
  {
   "cell_type": "code",
   "execution_count": null,
   "id": "cb22514f-14e7-46e8-9601-5e0f30a3d0b8",
   "metadata": {},
   "outputs": [],
   "source": []
  }
 ],
 "metadata": {
  "kernelspec": {
   "display_name": "Python 3 (ipykernel)",
   "language": "python",
   "name": "python3"
  },
  "language_info": {
   "codemirror_mode": {
    "name": "ipython",
    "version": 3
   },
   "file_extension": ".py",
   "mimetype": "text/x-python",
   "name": "python",
   "nbconvert_exporter": "python",
   "pygments_lexer": "ipython3",
   "version": "3.12.4"
  }
 },
 "nbformat": 4,
 "nbformat_minor": 5
}
